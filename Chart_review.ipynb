{
  "nbformat": 4,
  "nbformat_minor": 0,
  "metadata": {
    "colab": {
      "private_outputs": true,
      "provenance": [],
      "authorship_tag": "ABX9TyMb59fXbtxOJAeuKshNbpUO",
      "include_colab_link": true
    },
    "kernelspec": {
      "name": "python3",
      "display_name": "Python 3"
    },
    "language_info": {
      "name": "python"
    }
  },
  "cells": [
    {
      "cell_type": "markdown",
      "metadata": {
        "id": "view-in-github",
        "colab_type": "text"
      },
      "source": [
        "<a href=\"https://colab.research.google.com/github/zinojeng/chart_review/blob/main/Chart_review.ipynb\" target=\"_parent\"><img src=\"https://colab.research.google.com/assets/colab-badge.svg\" alt=\"Open In Colab\"/></a>"
      ]
    },
    {
      "cell_type": "code",
      "execution_count": null,
      "metadata": {
        "id": "7Iepstg4OXHy"
      },
      "outputs": [],
      "source": [
        "from getpass import getpass\n",
        "openai_api_key = getpass('請輸入你的 OpenAI API Key: ')"
      ]
    },
    {
      "cell_type": "code",
      "source": [
        "import requests\n",
        "import json\n",
        "from pprint import pp"
      ],
      "metadata": {
        "id": "hj0XSdrfOZEQ"
      },
      "execution_count": null,
      "outputs": []
    },
    {
      "cell_type": "code",
      "source": [
        "def get_completion(messages, model=\"gpt-4\", temperature=0, max_tokens=2000):\n",
        "  payload = { \"model\": model, \"temperature\": temperature, \"messages\": messages, \"max_tokens\": max_tokens }\n",
        "  headers = { \"Authorization\": f'Bearer {openai_api_key}', \"Content-Type\": \"application/json\" }\n",
        "  response = requests.post('https://api.openai.com/v1/chat/completions', headers = headers, data = json.dumps(payload) )\n",
        "  obj = json.loads(response.text)\n",
        "  if response.status_code == 200 :\n",
        "    return obj[\"choices\"][0][\"message\"][\"content\"]\n",
        "  else :\n",
        "    return obj[\"error\"]"
      ],
      "metadata": {
        "id": "8cxTELBlOaZo"
      },
      "execution_count": null,
      "outputs": []
    },
    {
      "cell_type": "code",
      "source": [
        "with open('/content/sample_data/726752.txt', 'r') as file:\n",
        "    adm_note = file.read()"
      ],
      "metadata": {
        "id": "H4Mw3FSA-e9H"
      },
      "execution_count": null,
      "outputs": []
    },
    {
      "cell_type": "markdown",
      "source": [
        "# **Chain of Thought**\n",
        "相互連接和基於彼此的思想或觀點，形成一個有進展的和有邏輯的思考過程"
      ],
      "metadata": {
        "id": "nbLhADejZYGW"
      }
    },
    {
      "cell_type": "code",
      "source": [
        "system_promot = \"You are a internal medical physician who specializes in writing and reviewing medical records. Let's think step by step and critically, Rrigorous and detailed review as possible as you can. \\\n",
        "give me the each and total score and each comment crtically more detail.\\\n",
        "If the writing is not good, incomplete, the content is short, and the context does not fit, please give low score or no score and Give feedback on why the score is so low, as detail as you can. \\\n",
        "response in zh-tw  \"\n",
        "\n",
        "#Few Shot starts here:\n",
        "\n",
        "{\"role\":\"user\",\"content\":\"The patient has a medical history of atrial fibrillation. \\\n",
        " The physical examination revealed a heart rate that was within the normal range and regular.\"},\n",
        "{\"role\":\"assistant\",\"content\":\"The patient has an irregular heartbeat, and the heartbeat should be irregular, and this demerit points. \\\n",
        "The content of the present illness or system review does not correspond to the physical examination. \\\n",
        "For abnormal inspection results or \"+\", no relevant instructions are added.\"},\n",
        "\n",
        "{\"role\":\"user\",\"content\":\"The chest pain began gradually and worsened when the individual was in a supine position. \\\n",
        " The location was situated on the left anterior chest wall. \"},\n",
        "{\"role\":\"assistant\",\"content\":\"Graduation: Mode of onset is provided. \\\n",
        "left anterior chest wall: location provided. \\\n",
        "supine position: aggravation provided. \\\n",
        "No description of chest pain character, relief or related symptoms\"},\n",
        "\n",
        "user_prompt = f\"\"\"\n",
        "\n",
        "According the content of admission note: {adm_note}\n",
        "\n",
        "1. Chief complaint includes Symptoms and Duration\n",
        "2 points will be awarded for those who meet the criteria (those without symptoms must indicate the date of disease diagnosis and the purpose of coming to the hospital)\n",
        "1 point is awarded for partial compliance (duration is not written)\n",
        "0 points if not met (write only for C/T, treatment or surgery)\n",
        "\n",
        "2. Present illness presents important information on medical history, symptoms and comprehensive process diagnosis and treatment.\n",
        "according to the content of admission note, proactively inquire using the LQQOPERA approach, which involves: \\\n",
        "1. Location 2. Character 3. Mode of onset 4. Precipitating , exaggerating and relieving factor 5. Associated symptoms \\\n",
        "indicate which item is mentioned and which item is not mentioned\n",
        "Detailed and logical analysis of the cause of the disease, 4 points will be awarded\n",
        "Describes some related symptoms, but lacks logic. Give 2 points.\n",
        "To be improved (only briefly list hospitalization purpose and data), give 0 points\n",
        "\n",
        "3. Complete Past/Personal/Family History, allergy history, and social relationship history\n",
        "□Consistent: give 2 points\n",
        "□ (Partially consistent): Give 1 point\n",
        "□: Not consistent: give 0 points\n",
        "\n",
        "4. The review system assessment is complete, and the Present illness description and Positive finding are annotated.\n",
        "It is necessary to point out which item does not conform to the above content\n",
        "(Positive finding has an explanation): give 3 points\n",
        "□ (If each system describes more than 5 items): Give 2 points\n",
        "□ (If each system describes less than 5 items): Give 1 point\n",
        "□To be improved (those with relevant questions in the chief complaint and medical history, but ROS is normal): 0 points\n",
        "\n",
        "5. In the Physical Examination, height, weight, blood pressure, body temperature, respiration, heartbeat, nutrition assessment and pain information must be recorded.\n",
        "It is necessary to point out which item does not conform to the above content\n",
        "□The content is consistent with the medical history and main complaints and emphasizes positive finding (infants and young children)\n",
        "Exception): give 3 points\n",
        "□The content is consistent with the medical history and main complainant: 2 points\n",
        "□If each system describes more than 3 items: give 1 point\n",
        "□Each system description contains less than 2 items or is illogical: give 0 points\n",
        "6. Physical examination is described in detail and logically.\n",
        "It is necessary to point out which item does not conform to the above content\n",
        "□Consistent: Give 1 point\n",
        "□Not conforming (such as writing Nil, As above): give 0 points\n",
        "\n",
        "7. Specialist physical examination to see if any abnormalities in writing are found\n",
        "□Consistent: Give 1 point\n",
        "□Does not meet the requirement: give 0 points\n",
        "\n",
        "8. Admission Note has a complete preliminary diagnosis and treatment plan\n",
        "□Consistent: Give 1 point\n",
        "□Does not meet the requirement: give 0 points\n",
        "\n",
        "9. The Problem list page is corrected according to the condition and displays the correct onset date.\n",
        "□Consistent: Give 1 point\n",
        "□Does not meet the requirement: give 0 points\n",
        "\"\"\"\n",
        "\n",
        "\n",
        "messages = [\n",
        "  { \"role\": \"system\", \"content\": system_promot },\n",
        "  { \"role\": \"user\", \"content\": user_prompt }\n",
        "]\n",
        "\n",
        "result = get_completion(messages, temperature=0.0, model=\"gpt-4\")\n",
        "print(result)"
      ],
      "metadata": {
        "id": "wJqAet6gOfj7"
      },
      "execution_count": null,
      "outputs": []
    }
  ]
}